{
 "cells": [
  {
   "cell_type": "markdown",
   "metadata": {},
   "source": [
    "# Change filename for model_zoo"
   ]
  },
  {
   "cell_type": "code",
   "execution_count": null,
   "metadata": {
    "ExecuteTime": {
     "end_time": "2019-10-14T11:50:41.382331Z",
     "start_time": "2019-10-14T11:50:41.362877Z"
    }
   },
   "outputs": [],
   "source": [
    "import os\n",
    "import shutil\n",
    "import glob\n",
    "\n",
    "\n",
    "import hashlib\n",
    "# filelist = glob.glob('./pretrained/*')\n",
    "filelist = glob.glob('*.pth')\n",
    "filelist"
   ]
  },
  {
   "cell_type": "code",
   "execution_count": null,
   "metadata": {
    "ExecuteTime": {
     "end_time": "2019-10-14T12:32:54.211281Z",
     "start_time": "2019-10-14T12:32:54.200927Z"
    }
   },
   "outputs": [],
   "source": [
    "newnames = []\n",
    "for filename in filelist:\n",
    "    sha256 = hashlib.sha256()\n",
    "    with open(filename, mode='br') as f:\n",
    "        while True:\n",
    "            buffer = f.read(8192)\n",
    "            if len(buffer) == 0:\n",
    "                break\n",
    "            sha256.update(buffer)\n",
    "    print(sha256.hexdigest())\n",
    "    base = os.path.basename(filename)\n",
    "    newname = base.replace('.',\"-{}.\".format(sha256.hexdigest()[:8]))\n",
    "    shutil.copy(filename, newname)\n",
    "    print('new name:', newname)\n",
    "    newnames.append(newname)"
   ]
  },
  {
   "cell_type": "markdown",
   "metadata": {},
   "source": [
    "# Make sure if it works"
   ]
  },
  {
   "cell_type": "code",
   "execution_count": null,
   "metadata": {
    "ExecuteTime": {
     "end_time": "2019-10-14T12:40:08.095056Z",
     "start_time": "2019-10-14T12:40:08.090130Z"
    }
   },
   "outputs": [],
   "source": [
    "a_to_url = {\n",
    "    0.25:'octdps_a25n64-a6d5f6e8.pth',\n",
    "    0.50:'octdps_a50n64-e6b0d50e.pth',\n",
    "    0.75:'octdps_a75n64-2c47a5f9.pth',\n",
    "    0.875:'octdps_a875n64-de7a76ad.pth',\n",
    "    0.9375:'octdps_a9375n64-398ec6ee.pth',\n",
    "    'a75n32':'octdps_a75n32-911a7225.pth'}"
   ]
  },
  {
   "cell_type": "code",
   "execution_count": null,
   "metadata": {
    "ExecuteTime": {
     "end_time": "2019-10-14T12:40:10.671497Z",
     "start_time": "2019-10-14T12:40:08.199558Z"
    }
   },
   "outputs": [],
   "source": [
    "from torch.utils import model_zoo\n",
    "newname = a_to_url[0.9375]\n",
    "url = 'http://www.robot.t.u-tokyo.ac.jp/~komatsu/data/{}'.format(newname)\n",
    "print(url)\n",
    "pretrained = model_zoo.load_url(url, map_location='cpu')"
   ]
  }
 ],
 "metadata": {
  "kernelspec": {
   "display_name": "Python 3",
   "language": "python",
   "name": "python3"
  },
  "language_info": {
   "codemirror_mode": {
    "name": "ipython",
    "version": 3
   },
   "file_extension": ".py",
   "mimetype": "text/x-python",
   "name": "python",
   "nbconvert_exporter": "python",
   "pygments_lexer": "ipython3",
   "version": "3.5.2"
  },
  "toc": {
   "base_numbering": 1,
   "nav_menu": {},
   "number_sections": true,
   "sideBar": true,
   "skip_h1_title": false,
   "title_cell": "Table of Contents",
   "title_sidebar": "Contents",
   "toc_cell": false,
   "toc_position": {},
   "toc_section_display": true,
   "toc_window_display": false
  },
  "varInspector": {
   "cols": {
    "lenName": 16,
    "lenType": 16,
    "lenVar": 40
   },
   "kernels_config": {
    "python": {
     "delete_cmd_postfix": "",
     "delete_cmd_prefix": "del ",
     "library": "var_list.py",
     "varRefreshCmd": "print(var_dic_list())"
    },
    "r": {
     "delete_cmd_postfix": ") ",
     "delete_cmd_prefix": "rm(",
     "library": "var_list.r",
     "varRefreshCmd": "cat(var_dic_list()) "
    }
   },
   "types_to_exclude": [
    "module",
    "function",
    "builtin_function_or_method",
    "instance",
    "_Feature"
   ],
   "window_display": false
  }
 },
 "nbformat": 4,
 "nbformat_minor": 2
}
