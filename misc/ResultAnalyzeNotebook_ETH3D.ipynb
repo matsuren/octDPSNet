{
 "cells": [
  {
   "cell_type": "markdown",
   "metadata": {},
   "source": [
    "# To generate Latex Table\n",
    "[Go to Result Table](#Result-Table)"
   ]
  },
  {
   "cell_type": "code",
   "execution_count": null,
   "metadata": {
    "ExecuteTime": {
     "end_time": "2019-10-10T07:12:03.148150Z",
     "start_time": "2019-10-10T07:12:01.998255Z"
    }
   },
   "outputs": [],
   "source": [
    "from path import Path\n",
    "import numpy as np\n",
    "import matplotlib.pyplot as plt\n",
    "import argparse\n",
    "import json\n",
    "import os\n",
    "from PIL import Image\n",
    "import cv2\n",
    "\n",
    "def compute_errors_test(gt, pred):\n",
    "    thresh = np.maximum((gt / pred), (pred / gt))\n",
    "    a1 = (thresh < 1.25   ).mean()\n",
    "    a2 = (thresh < 1.25 ** 2).mean()\n",
    "    a3 = (thresh < 1.25 ** 3).mean()\n",
    "\n",
    "    rmse = (gt - pred) ** 2\n",
    "    rmse = np.sqrt(rmse.mean())\n",
    "\n",
    "    rmse_log = (np.log(gt) - np.log(pred)) ** 2\n",
    "    rmse_log = np.sqrt(rmse_log.mean())\n",
    "\n",
    "    abs_diff = np.mean(np.abs(gt - pred))\n",
    "    abs_rel = np.mean(np.abs(gt - pred) / gt)\n",
    "\n",
    "    sq_rel = np.mean(((gt - pred)**2) / gt)\n",
    "\n",
    "    return abs_rel, abs_diff, sq_rel, rmse, rmse_log, a1, a2, a3"
   ]
  },
  {
   "cell_type": "code",
   "execution_count": null,
   "metadata": {
    "ExecuteTime": {
     "end_time": "2019-07-29T07:53:31.525652Z",
     "start_time": "2019-07-29T07:53:31.519611Z"
    }
   },
   "outputs": [],
   "source": [
    "parser = argparse.ArgumentParser(description='Test octDPSNet ETH3D',\n",
    "                                 formatter_class=argparse.ArgumentDefaultsHelpFormatter)\n",
    "parser.add_argument('data', metavar='DIR',help='path to dataset')\n",
    "parser.add_argument('--nlabel', type=int ,default=64, help='number of label')\n",
    "parser.add_argument('--mindepth', type=float ,default=0.5, help='minimum depth')\n",
    "parser.add_argument('--maxdepth', type=float ,default=10, help='maximum depth')\n",
    "args = parser.parse_args('DATASET/ETH3D_results/'.split())\n",
    "args"
   ]
  },
  {
   "cell_type": "markdown",
   "metadata": {},
   "source": [
    "# Visualize datasets"
   ]
  },
  {
   "cell_type": "code",
   "execution_count": null,
   "metadata": {
    "ExecuteTime": {
     "end_time": "2019-07-29T07:53:31.723661Z",
     "start_time": "2019-07-29T07:53:31.719052Z"
    }
   },
   "outputs": [],
   "source": [
    "root = Path(args.data)\n",
    "scene_list_path = sorted([name for name in os.listdir(root) if os.path.isdir(os.path.join(root, name))])\n",
    "scenes = [root/folder for folder in scene_list_path]"
   ]
  },
  {
   "cell_type": "code",
   "execution_count": null,
   "metadata": {
    "ExecuteTime": {
     "end_time": "2019-07-29T07:53:32.129296Z",
     "start_time": "2019-07-29T07:53:32.120707Z"
    }
   },
   "outputs": [],
   "source": [
    "for i, it in enumerate(scene_list_path):\n",
    "    print(i, it)"
   ]
  },
  {
   "cell_type": "code",
   "execution_count": null,
   "metadata": {
    "ExecuteTime": {
     "end_time": "2019-07-29T07:53:32.599687Z",
     "start_time": "2019-07-29T07:53:32.590185Z"
    }
   },
   "outputs": [],
   "source": [
    "scene = scenes[3]\n",
    "sequence_set = []\n",
    "# intrinsics\n",
    "f_int = open(scene/'gt_cam/cameras.txt', 'r')\n",
    "lines_int = f_int.readlines()\n",
    "linelist = lines_int[3].split(' ')\n",
    "intrinsics = np.array([[float(linelist[4]), 0., float(linelist[6])], [0., float(linelist[5]), float(linelist[7])], [0., 0., 1.]]).astype(np.float32)\n",
    "intrinsics[0,:] = intrinsics[0,:] * (810/float(linelist[2]))\n",
    "intrinsics[1,:] = intrinsics[1,:] * (540/float(linelist[3]))\n",
    "f_int.close()"
   ]
  },
  {
   "cell_type": "code",
   "execution_count": null,
   "metadata": {
    "ExecuteTime": {
     "end_time": "2019-07-29T07:53:33.343927Z",
     "start_time": "2019-07-29T07:53:33.334624Z"
    }
   },
   "outputs": [],
   "source": [
    "intrinsics"
   ]
  },
  {
   "cell_type": "code",
   "execution_count": null,
   "metadata": {
    "ExecuteTime": {
     "end_time": "2019-07-29T07:53:33.786444Z",
     "start_time": "2019-07-29T07:53:33.780023Z"
    }
   },
   "outputs": [],
   "source": [
    "# camera order\n",
    "f_order = open(scene/'gt_cam/order.txt', 'r')\n",
    "lines_order = f_order.readlines()\n",
    "orders = []\n",
    "for il, line in enumerate(lines_order):\n",
    "    linelist = line.split(' ')\n",
    "    orders.append(linelist)"
   ]
  },
  {
   "cell_type": "code",
   "execution_count": null,
   "metadata": {
    "ExecuteTime": {
     "end_time": "2019-07-29T07:53:34.125321Z",
     "start_time": "2019-07-29T07:53:34.100462Z"
    }
   },
   "outputs": [],
   "source": [
    "# camera poses\n",
    "f_pose = open(scene/'gt_cam/images.txt', 'r')\n",
    "lines_pose = f_pose.readlines()\n",
    "linelist_pose = lines_pose[3].split(' ')\n",
    "ncam = int(linelist_pose[4].split(',')[0])\n",
    "#poses = [None]*ncam\n",
    "poses = []\n",
    "imgidx = [None]*ncam\n",
    "for il, line in enumerate(lines_pose):\n",
    "    if il >= 4:\n",
    "        if il%2 == 0:\n",
    "            linelist = line.split(' ')\n",
    "            linelist_ = linelist[1:8]\n",
    "            imgidx[int(linelist[0])-1] = int((il-4)/2)\n",
    "            poses.append([float(qt) for qt in linelist_])"
   ]
  },
  {
   "cell_type": "code",
   "execution_count": null,
   "metadata": {
    "ExecuteTime": {
     "end_time": "2019-07-29T07:53:34.717392Z",
     "start_time": "2019-07-29T07:53:34.640824Z"
    }
   },
   "outputs": [],
   "source": [
    "imgs = sorted((scene/'reference_rgb').files('*.png'))\n",
    "gt_depths = sorted((scene/'gt_depth').files('*.npy'))\n",
    "gt_demonb = sorted((scene/'DeMoN_best').files('*.npy'))\n",
    "gt_demonm = sorted((scene/'DeMoN_median').files('*.npy'))\n",
    "gt_deepmvs = sorted((scene/'DeepMVS').files('*.npy'))\n",
    "gt_COLMAP = sorted((scene/'COLMAP_unfiltered').files('*.npy'))\n",
    "gt_COLMAP_filter = sorted((scene/'COLMAP_filtered').files('*.npy'))\n",
    "\n",
    "depths = gt_depths[0::2]\n",
    "# demonb = gt_demonb[0::2]\n",
    "# demonm = gt_demonm[0::2]\n",
    "# deepmvs = gt_deepmvs[0::2]\n",
    "# COLMAP = gt_COLMAP[0::2]\n",
    "# COLMAP_f = gt_COLMAP_filter[0::2]\n",
    "\n",
    "depths1 = gt_depths[1::2]\n",
    "# demonb1 = gt_demonb[1::2]\n",
    "# demonm1 = gt_demonm[1::2]\n",
    "# deepmvs1 = gt_deepmvs[1::2]\n",
    "# COLMAP1 = gt_COLMAP[1::2]\n",
    "# COLMAP1_f = gt_COLMAP_filter[1::2]\n"
   ]
  },
  {
   "cell_type": "code",
   "execution_count": null,
   "metadata": {
    "ExecuteTime": {
     "end_time": "2019-07-29T07:53:35.016560Z",
     "start_time": "2019-07-29T07:53:35.010425Z"
    }
   },
   "outputs": [],
   "source": [
    "len(imgs)"
   ]
  },
  {
   "cell_type": "code",
   "execution_count": null,
   "metadata": {
    "ExecuteTime": {
     "end_time": "2019-07-29T07:53:35.768812Z",
     "start_time": "2019-07-29T07:53:35.510087Z"
    }
   },
   "outputs": [],
   "source": [
    "idx = -1\n",
    "img = np.array(Image.open(imgs[idx]))\n",
    "plt.imshow(img)"
   ]
  },
  {
   "cell_type": "code",
   "execution_count": null,
   "metadata": {
    "ExecuteTime": {
     "end_time": "2019-07-29T07:53:35.900114Z",
     "start_time": "2019-07-29T07:53:35.897364Z"
    }
   },
   "outputs": [],
   "source": [
    "# gt_depths\n",
    "# gt_demonb\n",
    "# gt_demonm\n",
    "# gt_deepmvs\n",
    "# gt_COLMAP\n",
    "# gt_COLMAP_filter"
   ]
  },
  {
   "cell_type": "code",
   "execution_count": null,
   "metadata": {
    "ExecuteTime": {
     "end_time": "2019-07-29T07:53:36.377294Z",
     "start_time": "2019-07-29T07:53:36.373917Z"
    }
   },
   "outputs": [],
   "source": [
    "targets = ['octDPSa75','octDPSa9375','DeMoN_best','DeMoN_median','DeepMVS','COLMAP_unfiltered','COLMAP_filtered']"
   ]
  },
  {
   "cell_type": "code",
   "execution_count": null,
   "metadata": {
    "ExecuteTime": {
     "end_time": "2019-07-29T07:53:36.669163Z",
     "start_time": "2019-07-29T07:53:36.647982Z"
    }
   },
   "outputs": [],
   "source": [
    "pred_valid = sorted((scene/'octDPSa75').files('*.npy'))\n",
    "pred_list = pred_valid[0::2]\n",
    "valid_list = pred_valid[1::2]"
   ]
  },
  {
   "cell_type": "code",
   "execution_count": null,
   "metadata": {
    "ExecuteTime": {
     "end_time": "2019-07-29T07:53:36.822922Z",
     "start_time": "2019-07-29T07:53:36.809455Z"
    }
   },
   "outputs": [],
   "source": [
    "# inverse depth\n",
    "gt = np.load(depths[idx])\n",
    "gt_d = 1/gt\n",
    "pred = np.load(pred_list[idx])\n",
    "pred_d = 1/pred\n",
    "mask = np.load(valid_list[idx])\n",
    "mask &= ((pred_d>0) & (pred_d<32)) \n",
    "mask &= ((gt_d>0) & (gt_d<32)) "
   ]
  },
  {
   "cell_type": "code",
   "execution_count": null,
   "metadata": {
    "ExecuteTime": {
     "end_time": "2019-07-29T07:53:37.247415Z",
     "start_time": "2019-07-29T07:53:37.009083Z"
    }
   },
   "outputs": [],
   "source": [
    "gt[~mask] = 0\n",
    "pred[~mask] = 0\n",
    "fig, ax = plt.subplots(1,2,figsize=(8,8))\n",
    "ax[0].imshow(gt)\n",
    "ax[1].imshow(pred)"
   ]
  },
  {
   "cell_type": "code",
   "execution_count": null,
   "metadata": {
    "ExecuteTime": {
     "end_time": "2019-07-29T07:53:37.393218Z",
     "start_time": "2019-07-29T07:53:37.382143Z"
    }
   },
   "outputs": [],
   "source": [
    "compute_errors_test(gt[mask], pred[mask])"
   ]
  },
  {
   "cell_type": "code",
   "execution_count": null,
   "metadata": {
    "ExecuteTime": {
     "end_time": "2019-07-29T07:53:38.009506Z",
     "start_time": "2019-07-29T07:53:37.734082Z"
    }
   },
   "outputs": [],
   "source": [
    "# depth\n",
    "gt_d[~mask] = 0\n",
    "pred_d[~mask] = 0\n",
    "fig, ax = plt.subplots(1,2,figsize=(8,8))\n",
    "ax[0].imshow(gt_d)\n",
    "ax[1].imshow(pred_d)"
   ]
  },
  {
   "cell_type": "code",
   "execution_count": null,
   "metadata": {
    "ExecuteTime": {
     "end_time": "2019-07-29T07:53:38.052552Z",
     "start_time": "2019-07-29T07:53:38.040696Z"
    }
   },
   "outputs": [],
   "source": [
    "compute_errors_test(gt_d[mask], pred_d[mask])"
   ]
  },
  {
   "cell_type": "code",
   "execution_count": null,
   "metadata": {
    "ExecuteTime": {
     "end_time": "2019-07-29T07:53:41.665271Z",
     "start_time": "2019-07-29T07:53:38.278570Z"
    }
   },
   "outputs": [],
   "source": [
    "showPointCloudfromNumpy(img, gt_d, intrinsics)\n",
    "showPointCloudfromNumpy(img, pred_d, intrinsics)"
   ]
  },
  {
   "cell_type": "markdown",
   "metadata": {},
   "source": [
    "## Batch point cloud visualization"
   ]
  },
  {
   "cell_type": "code",
   "execution_count": null,
   "metadata": {
    "ExecuteTime": {
     "end_time": "2019-07-29T07:53:42.851497Z",
     "start_time": "2019-07-29T07:53:42.844614Z"
    }
   },
   "outputs": [],
   "source": [
    "list(enumerate(targets))"
   ]
  },
  {
   "cell_type": "code",
   "execution_count": null,
   "metadata": {
    "ExecuteTime": {
     "end_time": "2019-07-29T07:53:43.021110Z",
     "start_time": "2019-07-29T07:53:43.015893Z"
    }
   },
   "outputs": [],
   "source": [
    "for i, it in enumerate(scenes):\n",
    "    print(i, it.basename())"
   ]
  },
  {
   "cell_type": "code",
   "execution_count": null,
   "metadata": {
    "ExecuteTime": {
     "end_time": "2019-07-29T07:53:43.479650Z",
     "start_time": "2019-07-29T07:53:43.475931Z"
    }
   },
   "outputs": [],
   "source": [
    "scene = scenes[4]"
   ]
  },
  {
   "cell_type": "code",
   "execution_count": null,
   "metadata": {
    "ExecuteTime": {
     "end_time": "2019-07-29T07:53:52.450669Z",
     "start_time": "2019-07-29T07:53:44.628697Z"
    }
   },
   "outputs": [],
   "source": [
    "target = 'octDPSa75len4'\n",
    "target = 'octDPSa75'\n",
    "\n",
    "pred_valid = sorted((scene/target).files('*.npy'))\n",
    "\n",
    "imgs = sorted((scene/'reference_rgb').files('*.png'))\n",
    "gt_depths = sorted((scene/'gt_depth').files('*.npy'))\n",
    "depths = gt_depths[0::2]\n",
    "pred_list = pred_valid[0::2]\n",
    "valid_list = pred_valid[1::2]\n",
    "\n",
    "for idx in range(0, 15, 3):\n",
    "    img = np.array(Image.open(imgs[idx]))\n",
    "\n",
    "    # inverse depth\n",
    "    gt = np.load(depths[idx])\n",
    "    gt_d = 1/gt\n",
    "    pred = np.load(pred_list[idx])\n",
    "    pred_d = 1/pred\n",
    "    mask = np.load(valid_list[idx])\n",
    "    mask &= ((pred_d>0) & (pred_d<32)) \n",
    "    mask &= ((gt_d>0) & (gt_d<32)) \n",
    "\n",
    "    gt_d[~mask] = 0\n",
    "    pred_d[~mask] = 0\n",
    "    \n",
    "    showPointCloudfromNumpy(img, gt_d, intrinsics)\n",
    "    showPointCloudfromNumpy(img, pred_d, intrinsics)"
   ]
  },
  {
   "cell_type": "code",
   "execution_count": null,
   "metadata": {},
   "outputs": [],
   "source": []
  },
  {
   "cell_type": "markdown",
   "metadata": {},
   "source": [
    "# Conversion from test_ETH3D.py"
   ]
  },
  {
   "cell_type": "code",
   "execution_count": null,
   "metadata": {
    "ExecuteTime": {
     "end_time": "2019-07-29T05:24:05.760759Z",
     "start_time": "2019-07-29T05:24:05.722941Z"
    }
   },
   "outputs": [],
   "source": [
    "datafolder = './ETHa75/result_seqlen2_dpsnet_18_checkpoint'\n",
    "output_name = 'octDPSa75'\n",
    "\n",
    "datafolder = './a9375len2_dpsnet_19_checkpoint'\n",
    "output_name = 'octDPSa9375'\n",
    "\n",
    "\n",
    "datafolder = './a25len2_dpsnet_18_checkpoint/'\n",
    "output_name = 'octDPSa25'\n",
    "\n",
    "datafolder = './ETHa75/result_seqlen4_dpsnet_18_checkpoint/'\n",
    "output_name = 'octDPSa75len4'\n",
    "\n",
    "\n",
    "datafolder = '/home/komatsu/paper/DPSNet/result_dpsnet_updated/'\n",
    "output_name = 'DPSNet'\n",
    "\n",
    "datafolder = './a50len2_dpsnet_19_checkpoint/'\n",
    "output_name = 'octDPSa50'\n",
    "\n",
    "datafolder = './a875len2_dpsnet_19_checkpoint/'\n",
    "output_name = 'octDPSa875'\n",
    "\n",
    "preds = sorted(Path(datafolder).files('*.npy'))\n",
    "len(preds)"
   ]
  },
  {
   "cell_type": "code",
   "execution_count": null,
   "metadata": {
    "ExecuteTime": {
     "end_time": "2019-07-29T05:24:23.821097Z",
     "start_time": "2019-07-29T05:24:06.430420Z"
    }
   },
   "outputs": [],
   "source": [
    "cnt = 0\n",
    "print(output_name)\n",
    "for scene in scenes:\n",
    "    print(scene)\n",
    "    # mkdir\n",
    "    folder = (scene/output_name)\n",
    "    folder.mkdir_p()\n",
    "    \n",
    "    # gt\n",
    "    gt_depths = sorted((scene/'gt_depth').files('*.npy'))\n",
    "    depths = gt_depths[0::2]\n",
    "    for i, it in enumerate(depths):\n",
    "        tgt_depth = 1/np.load(it)\n",
    "        scale = 1/np.amin(tgt_depth[tgt_depth>0])\n",
    "        \n",
    "        # pred result\n",
    "        pred_disp = np.load(preds[cnt])\n",
    "        pred_depth = args.mindepth*args.nlabel/pred_disp\n",
    "        pred_depth /= scale\n",
    "        pred_depth = pred_depth[4:, 22:]\n",
    "        pred_disp = 1/pred_depth\n",
    "        \n",
    "        # save result\n",
    "        np.save(folder/'{:04d}{}'.format(i,'.npy'), 1/pred_depth)\n",
    "        np.save(folder/'{:04d}_valid{}'.format(i,'.npy'), np.full((540, 810), True))\n",
    "        pred_disp /= pred_disp.max()\n",
    "        pred_disp = (pred_disp*255).clip(0, 255).astype(np.uint8)\n",
    "        colored_disp = cv2.applyColorMap(pred_disp, cv2.COLORMAP_VIRIDIS)\n",
    "        cv2.imwrite(folder/'{:04d}{}'.format(i,'.png'), colored_disp)\n",
    "        cnt += 1"
   ]
  },
  {
   "cell_type": "markdown",
   "metadata": {},
   "source": [
    "# Compute error"
   ]
  },
  {
   "cell_type": "code",
   "execution_count": null,
   "metadata": {
    "ExecuteTime": {
     "end_time": "2019-07-29T07:54:33.742161Z",
     "start_time": "2019-07-29T07:54:32.694502Z"
    },
    "scrolled": false
   },
   "outputs": [],
   "source": [
    "# check ground truth\n",
    "max_array = []\n",
    "min_array = []\n",
    "for scene in scenes:\n",
    "    gt_depths = sorted((scene/'gt_depth').files('*.npy'))\n",
    "    depths = gt_depths[0::2]\n",
    "    for it in depths:\n",
    "        gt = np.load(it)\n",
    "#         print(gt[gt>0].min(), gt[gt>0].max())\n",
    "#         print(1/gt[gt>0].max(),1/gt[gt>0].min())\n",
    "        max_array.append(1/gt[gt>0].min())\n",
    "        min_array.append(1/gt[gt>0].max())\n",
    "#         max_array.append(gt[gt>0].min())\n",
    "#         min_array.append(gt[gt>0].max())"
   ]
  },
  {
   "cell_type": "code",
   "execution_count": null,
   "metadata": {
    "ExecuteTime": {
     "end_time": "2019-07-29T07:54:34.002033Z",
     "start_time": "2019-07-29T07:54:33.743531Z"
    }
   },
   "outputs": [],
   "source": [
    "import pandas as pd\n",
    "pd.DataFrame({'max_array':max_array, 'min_array':min_array}).describe().transpose()"
   ]
  },
  {
   "cell_type": "code",
   "execution_count": null,
   "metadata": {
    "ExecuteTime": {
     "end_time": "2019-07-29T08:34:26.458359Z",
     "start_time": "2019-07-29T08:34:26.454092Z"
    }
   },
   "outputs": [],
   "source": [
    "\n",
    "targets = ['DeMoN_best','DeMoN_median','DeepMVS','COLMAP_unfiltered','COLMAP_filtered']\n",
    "targets = ['octDPSa75','octDPSa25','octDPSa9375','DPSNet','DeMoN_best','DeMoN_median','DeepMVS','COLMAP_unfiltered','COLMAP_filtered']\n",
    "targets = ['octDPSa25','octDPSa50','octDPSa75','octDPSa875','octDPSa9375','DPSNet','DeepMVS']"
   ]
  },
  {
   "cell_type": "code",
   "execution_count": null,
   "metadata": {
    "ExecuteTime": {
     "end_time": "2019-07-29T08:35:09.201026Z",
     "start_time": "2019-07-29T08:34:26.981045Z"
    }
   },
   "outputs": [],
   "source": [
    "root = Path(args.data)\n",
    "scene_list_path = sorted([name for name in os.listdir(root) if os.path.isdir(os.path.join(root, name))])\n",
    "scenes = [root/folder for folder in scene_list_path]\n",
    "\n",
    "error_all = {}\n",
    "\n",
    "for target in targets:\n",
    "    errors = []\n",
    "    \n",
    "    for scene in scenes:\n",
    "#         print(scene)\n",
    "        one_scene_errors = []\n",
    "\n",
    "        gt_depths = sorted((scene/'gt_depth').files('*.npy'))\n",
    "        depths = gt_depths[0::2]\n",
    "        depths1 = gt_depths[1::2]\n",
    "\n",
    "        pred_valid = sorted((scene/target).files('*.npy'))\n",
    "        pred_list = pred_valid[0::2]\n",
    "        valid_list = pred_valid[1::2]\n",
    "\n",
    "        for idx in range(len(depths)):\n",
    "            # inverse depth\n",
    "            gt = np.load(depths[idx])\n",
    "            gt[gt==0]=1e-5\n",
    "            gt_d = 1/gt\n",
    "            pred = np.load(pred_list[idx])\n",
    "            pred[pred==0]=1e-5\n",
    "            pred_d = 1/pred\n",
    "            mask = np.load(valid_list[idx])\n",
    "            mask &= ((pred_d>0) & (pred_d<72)) \n",
    "            mask &= ((gt_d>0) & (gt_d<72)) \n",
    "\n",
    "            gt[~mask] = 0\n",
    "            pred[~mask] = 0\n",
    "\n",
    "            # depth\n",
    "            gt_d[~mask] = 0\n",
    "            pred_d[~mask] = 0\n",
    "            error = compute_errors_test(gt_d[mask], pred_d[mask])\n",
    "            errors.append(error)\n",
    "            one_scene_errors.append(error)\n",
    "        one_scene_errors = np.array(one_scene_errors)\n",
    "        print(\"{:14}:{:8.4f}, {:8.4f}, {:8.4f}, {:8.4f}, {:8.4f}, {:8.4f}, {:8.4f}, {:8.4f}\".format(\n",
    "            scene.basename(), *one_scene_errors.mean(0)))\n",
    "\n",
    "\n",
    "    error_names = ['abs_rel', 'abs_diff', 'sq_rel', 'rms', 'log_rms', 'a1', 'a2', 'a3']\n",
    "\n",
    "#     print(target)\n",
    "    errors = np.array(errors)\n",
    "    error_all[target] = errors.mean(0)\n",
    "    print(\"Depth Results ETH3D: \",target)\n",
    "    print(\"{:>10}, {:>10}, {:>10}, {:>10}, {:>10}, {:>10}, {:>10}, {:>10}\".format(*error_names))\n",
    "    print(\"{:10.4f}, {:10.4f}, {:10.4f}, {:10.4f}, {:10.4f}, {:10.4f}, {:10.4f}, {:10.4f}\".format(*errors.mean(0)))\n"
   ]
  },
  {
   "cell_type": "code",
   "execution_count": null,
   "metadata": {
    "ExecuteTime": {
     "end_time": "2019-07-29T08:35:09.206763Z",
     "start_time": "2019-07-29T08:35:09.202423Z"
    }
   },
   "outputs": [],
   "source": [
    "error_all"
   ]
  },
  {
   "cell_type": "code",
   "execution_count": null,
   "metadata": {
    "ExecuteTime": {
     "end_time": "2019-07-29T08:35:09.226843Z",
     "start_time": "2019-07-29T08:35:09.207959Z"
    }
   },
   "outputs": [],
   "source": [
    "df = pd.DataFrame(error_all, index=error_names).transpose()\n",
    "df"
   ]
  },
  {
   "cell_type": "code",
   "execution_count": null,
   "metadata": {
    "ExecuteTime": {
     "end_time": "2019-07-29T08:35:09.245491Z",
     "start_time": "2019-07-29T08:35:09.228185Z"
    }
   },
   "outputs": [],
   "source": [
    "dirname = 'metric_csv_eth'\n",
    "if not os.path.isdir(dirname):\n",
    "    os.mkdir(dirname)\n",
    "print('save directory:', dirname)\n",
    "\n",
    "for it in df.index:\n",
    "    fname = '{}/{}.csv'.format(dirname, it)\n",
    "    print('save csv file in',fname)\n",
    "    df.loc[it].to_csv(fname)"
   ]
  },
  {
   "cell_type": "code",
   "execution_count": null,
   "metadata": {
    "ExecuteTime": {
     "end_time": "2019-07-29T06:27:26.919358Z",
     "start_time": "2019-07-29T06:27:26.915067Z"
    }
   },
   "outputs": [],
   "source": [
    "tmp = df.loc[it]"
   ]
  },
  {
   "cell_type": "code",
   "execution_count": null,
   "metadata": {
    "ExecuteTime": {
     "end_time": "2019-07-29T06:27:36.459563Z",
     "start_time": "2019-07-29T06:27:36.454462Z"
    }
   },
   "outputs": [],
   "source": [
    "type(tmp)"
   ]
  },
  {
   "cell_type": "markdown",
   "metadata": {},
   "source": [
    "# Result Table"
   ]
  },
  {
   "cell_type": "code",
   "execution_count": null,
   "metadata": {
    "ExecuteTime": {
     "end_time": "2019-10-11T05:27:44.679265Z",
     "start_time": "2019-10-11T05:27:44.676381Z"
    }
   },
   "outputs": [],
   "source": [
    "import pandas as pd\n",
    "from collections import OrderedDict\n",
    "import numpy as np"
   ]
  },
  {
   "cell_type": "code",
   "execution_count": null,
   "metadata": {
    "ExecuteTime": {
     "end_time": "2019-10-11T05:35:17.900661Z",
     "start_time": "2019-10-11T05:35:17.892180Z"
    }
   },
   "outputs": [],
   "source": [
    "csv_fnames = OrderedDict(\n",
    "    {\n",
    "    r'Our ($\\alpha$=0.25)':'metric_csv_eth/octDPSa25.csv',\n",
    "    r'Our ($\\alpha$=0.50)':'metric_csv_eth/octDPSa50.csv',\n",
    "    r'Our ($\\alpha$=0.75)':'metric_csv_eth/octDPSa75.csv',\n",
    "    r'Our ($\\alpha$=0.875)':'metric_csv_eth/octDPSa875.csv',\n",
    "    r'Our ($\\alpha$=0.9375)':'metric_csv_eth/octDPSa9375.csv',\n",
    "    'DPSNet':'metric_csv_eth/DPSNet.csv',\n",
    "    'DeepMVS':'metric_csv_eth/DeepMVS.csv',\n",
    "    'MVSNet':'metric_csv_eth/MVSNet.csv',\n",
    "    'R-MVSNet':'metric_csv_eth/RMVSNet.csv',\n",
    "#     'COLOMAP filter':'metric_csv_eth/COLMAP_filtered.csv',\n",
    "#     'COLOMAP':'metric_csv_eth/COLMAP_unfiltered.csv',\n",
    "})\n",
    "# csv_fnames = OrderedDict(\n",
    "#     {\n",
    "#     r'Our ($\\alpha$=0.75)':'metric_csv_eth/octDPSa75.csv',\n",
    "#     'DPSNet':'metric_csv_eth/DPSNet.csv',\n",
    "#     'DeepMVS':'metric_csv_eth/DeepMVS.csv',\n",
    "#     'COLOMAP filter':'metric_csv_eth/COLMAP_filtered.csv',\n",
    "#     'COLOMAP':'metric_csv_eth/COLMAP_unfiltered.csv',\n",
    "#     'DeMoN':'metric_csv_eth/DeMoN_median.csv',\n",
    "#     'DeMoN best':'metric_csv_eth/DeMoN_best.csv'\n",
    "# })\n"
   ]
  },
  {
   "cell_type": "code",
   "execution_count": null,
   "metadata": {
    "ExecuteTime": {
     "end_time": "2019-10-11T05:35:19.366895Z",
     "start_time": "2019-10-11T05:35:19.325020Z"
    }
   },
   "outputs": [],
   "source": [
    "df_data = OrderedDict({})\n",
    "for key, fname in csv_fnames.items():\n",
    "    series = pd.read_csv(fname, header=None, index_col=0, squeeze=True)\n",
    "    # add\n",
    "    df_data[key] = series"
   ]
  },
  {
   "cell_type": "code",
   "execution_count": null,
   "metadata": {
    "ExecuteTime": {
     "end_time": "2019-10-11T05:35:19.527913Z",
     "start_time": "2019-10-11T05:35:19.502635Z"
    }
   },
   "outputs": [],
   "source": [
    "df = pd.DataFrame(df_data).transpose()\n",
    "df"
   ]
  },
  {
   "cell_type": "code",
   "execution_count": null,
   "metadata": {
    "ExecuteTime": {
     "end_time": "2019-10-11T05:35:20.362672Z",
     "start_time": "2019-10-11T05:35:20.351099Z"
    }
   },
   "outputs": [],
   "source": [
    "def _get_add_attr(df, topk, min_is_good, max_is_good):\n",
    "\n",
    "    add_attr = pd.DataFrame(np.full(df.shape, \"\"), index=df.index, columns=df.columns)\n",
    "\n",
    "    _decorate(df, add_attr, min_is_good, topk=topk)\n",
    "    _decorate(df, add_attr, max_is_good, topk=topk, reverse=True)\n",
    "    \n",
    "    return add_attr\n",
    "\n",
    "def _decorate(df, add_attr, metrics, topk=1, reverse=False):\n",
    "    for metric in metrics:\n",
    "        roi = df[metric]\n",
    "        for i in range(topk)[::-1]:\n",
    "            sorted_roi = roi.sort_values()\n",
    "            if reverse:\n",
    "                sorted_roi = sorted_roi[::-1]\n",
    "            mask = (roi ==sorted_roi[i])\n",
    "            add_attr[metric][mask]=i\n",
    "\n",
    "# Apply style\n",
    "def highlightDF(df, attrs, min_is_good, max_is_good):\n",
    "    topk = len(attrs)\n",
    "\n",
    "    add_attr = _get_add_attr(df, topk, min_is_good, max_is_good)\n",
    "    \n",
    "    add_attr.replace(dict(enumerate(attrs)), inplace=True)\n",
    "    func = lambda x:add_attr\n",
    "    return df.style.apply(func, axis=None)"
   ]
  },
  {
   "cell_type": "code",
   "execution_count": null,
   "metadata": {
    "ExecuteTime": {
     "end_time": "2019-10-11T05:35:20.992564Z",
     "start_time": "2019-10-11T05:35:20.891098Z"
    }
   },
   "outputs": [],
   "source": [
    "min_is_good = ['abs_rel', 'abs_diff', 'sq_rel', 'rms', 'log_rms']\n",
    "max_is_good = ['a1', 'a2', 'a3']\n",
    "# set the style on top K\n",
    "# 1st: bold, 2nd: underline\n",
    "attr_bold = 'font-weight: {}'.format('bold')\n",
    "attr_underline = 'text-decoration:underline'\n",
    "attrs = [attr_bold, attr_underline]\n",
    "    \n",
    "highlightDF(df, attrs, min_is_good, max_is_good)"
   ]
  },
  {
   "cell_type": "markdown",
   "metadata": {},
   "source": [
    "## To Latex"
   ]
  },
  {
   "cell_type": "code",
   "execution_count": null,
   "metadata": {
    "ExecuteTime": {
     "end_time": "2019-10-11T05:34:54.382913Z",
     "start_time": "2019-10-11T05:34:54.299344Z"
    }
   },
   "outputs": [],
   "source": [
    "topk = 2\n",
    "\n",
    "colums = ['Abs Rel', 'Abs Diff', 'Sq Rel', 'RMS', 'log RMS',\n",
    "          '$\\delta < 1.25$', '$\\delta < 1.25^2$' '& $\\delta < 1.25^3$']\n",
    "tex_attr = {'':'', 0:r'\\bfseries', 1:''}\n",
    "# tex_attr = {'':'', 0:r'\\bfseries', 1:r'\\underline'}\n",
    "add_attr = _get_add_attr(df, topk, min_is_good, max_is_good)\n",
    "add_attr"
   ]
  },
  {
   "cell_type": "code",
   "execution_count": null,
   "metadata": {
    "ExecuteTime": {
     "end_time": "2019-10-11T05:32:39.740009Z",
     "start_time": "2019-10-11T05:32:39.733649Z"
    }
   },
   "outputs": [],
   "source": [
    "df.columns"
   ]
  },
  {
   "cell_type": "code",
   "execution_count": null,
   "metadata": {
    "ExecuteTime": {
     "end_time": "2019-10-11T05:32:15.970705Z",
     "start_time": "2019-10-11T05:32:15.921456Z"
    }
   },
   "outputs": [],
   "source": [
    "print(r'\\begin{table*}')\n",
    "print(r'\\caption{xxxxxx}')\n",
    "print(r'\\centering')\n",
    "print(r'\\begin{tabular}{' + '|l|' + 'r'*len(min_is_good) + '|'+'r'*len(max_is_good)+'|' + '}')\n",
    "print(r'\\hline')\n",
    "print(r'{} &  \\multicolumn{5}{c|}{Error (smaller is better)} & \\multicolumn{3}{c|}{Threshold (bigger is better)} \\\\')\n",
    "print('Model & ' + ' & '.join(colums) + r' \\\\')\n",
    "print(r'\\hline')\n",
    "for idx in df.index:\n",
    "    series = [idx]\n",
    "    for col in df.columns:\n",
    "        val = df.loc[idx][col]\n",
    "        attr = add_attr.loc[idx][col]\n",
    "        series.append('{:.4f}'.format(val))\n",
    "        if tex_attr[attr] != '':\n",
    "            series[-1] = tex_attr[attr] + '{' +series[-1] + '}'\n",
    "    print(' & '.join(series), r'\\\\')\n",
    "print(r'\\hline')\n",
    "print(r'\\end{tabular}')\n",
    "print(r'\\label{tab:xxxx}')\n",
    "print(r'\\end{table*}')"
   ]
  }
 ],
 "metadata": {
  "kernelspec": {
   "display_name": "Python 3",
   "language": "python",
   "name": "python3"
  },
  "language_info": {
   "codemirror_mode": {
    "name": "ipython",
    "version": 3
   },
   "file_extension": ".py",
   "mimetype": "text/x-python",
   "name": "python",
   "nbconvert_exporter": "python",
   "pygments_lexer": "ipython3",
   "version": "3.5.2"
  },
  "toc": {
   "base_numbering": 1,
   "nav_menu": {},
   "number_sections": true,
   "sideBar": true,
   "skip_h1_title": false,
   "title_cell": "Table of Contents",
   "title_sidebar": "Contents",
   "toc_cell": false,
   "toc_position": {},
   "toc_section_display": true,
   "toc_window_display": false
  }
 },
 "nbformat": 4,
 "nbformat_minor": 2
}
