{
  "nbformat": 4,
  "nbformat_minor": 0,
  "metadata": {
    "kernelspec": {
      "name": "python3",
      "display_name": "Python 3"
    },
    "language_info": {
      "codemirror_mode": {
        "name": "ipython",
        "version": 3
      },
      "file_extension": ".py",
      "mimetype": "text/x-python",
      "name": "python",
      "nbconvert_exporter": "python",
      "pygments_lexer": "ipython3",
      "version": "3.7.3"
    },
    "toc": {
      "base_numbering": 1,
      "nav_menu": {},
      "number_sections": true,
      "sideBar": true,
      "skip_h1_title": false,
      "title_cell": "Table of Contents",
      "title_sidebar": "Contents",
      "toc_cell": false,
      "toc_position": {},
      "toc_section_display": true,
      "toc_window_display": false
    },
    "colab": {
      "name": "octDPSNet_demo_colab.ipynb",
      "provenance": [],
      "collapsed_sections": [],
      "toc_visible": true,
      "include_colab_link": true
    },
    "accelerator": "GPU"
  },
  "cells": [
    {
      "cell_type": "markdown",
      "metadata": {
        "id": "view-in-github",
        "colab_type": "text"
      },
      "source": [
        "<a href=\"https://colab.research.google.com/github/matsuren/octDPSNet/blob/master/octDPSNet_demo_colab.ipynb\" target=\"_parent\"><img src=\"https://colab.research.google.com/assets/colab-badge.svg\" alt=\"Open In Colab\"/></a>"
      ]
    },
    {
      "cell_type": "markdown",
      "metadata": {
        "id": "bZedcsYC5Uyn",
        "colab_type": "text"
      },
      "source": [
        "# Demo for octDPSNet"
      ]
    },
    {
      "cell_type": "code",
      "metadata": {
        "id": "OqaEEyeu62Ly",
        "colab_type": "code",
        "colab": {}
      },
      "source": [
        "import os\n",
        "assert int(os.environ['COLAB_GPU'])==1, 'Make sure to select GPU from Edit > Notebook settings > Hardware accelerator'"
      ],
      "execution_count": 0,
      "outputs": []
    },
    {
      "cell_type": "code",
      "metadata": {
        "id": "hsKfyubf5bMy",
        "colab_type": "code",
        "colab": {}
      },
      "source": [
        "!pip install -q open3d\n",
        "%cd /content\n",
        "!git clone https://github.com/matsuren/octDPSNet.git\n",
        "%cd octDPSNet"
      ],
      "execution_count": 0,
      "outputs": []
    },
    {
      "cell_type": "code",
      "metadata": {
        "id": "mog0Dwj85Uyq",
        "colab_type": "code",
        "colab": {}
      },
      "source": [
        "# show pointclouds\n",
        "import open3d as o3d\n",
        "\n",
        "from models.octDPSNet import octdpsnet\n",
        "import numpy as np\n",
        "\n",
        "import torch\n",
        "import torch.backends.cudnn as cudnn\n",
        "from models import octconv\n",
        "from google.colab.patches import cv2_imshow\n",
        "import cv2\n",
        "import matplotlib.pyplot as plt\n",
        "from google.colab import files"
      ],
      "execution_count": 0,
      "outputs": []
    },
    {
      "cell_type": "code",
      "metadata": {
        "id": "sbuAoPCR5Uyv",
        "colab_type": "code",
        "colab": {}
      },
      "source": [
        "############################\n",
        "# select data\n",
        "############################\n",
        "test_folder = './sample_data/sun3d_test_00047/'\n",
        "# test_folder = './sample_data/mvs_test_00023/'\n",
        "# test_folder = './sample_data/rgbd_test_00038/'"
      ],
      "execution_count": 0,
      "outputs": []
    },
    {
      "cell_type": "code",
      "metadata": {
        "id": "m8Q9Tq6F5Uyy",
        "colab_type": "code",
        "colab": {}
      },
      "source": [
        "nlabel = 64\n",
        "mindepth = 0.5\n",
        "octconv.ALPHA = 0.75\n",
        "mymodel = octdpsnet(nlabel, mindepth, octconv.ALPHA, True).cuda()\n",
        "mymodel.eval()\n",
        "print('Load:')"
      ],
      "execution_count": 0,
      "outputs": []
    },
    {
      "cell_type": "code",
      "metadata": {
        "id": "lxKOjLNH5Uy2",
        "colab_type": "code",
        "colab": {}
      },
      "source": [
        "def imread(fname):\n",
        "    img = cv2.imread(fname)\n",
        "    img = cv2.cvtColor(img, cv2.COLOR_BGR2RGB)\n",
        "    return img\n",
        "\n",
        "def imshow(img):\n",
        "    tmpimg = cv2.cvtColor(img, cv2.COLOR_RGB2BGR)\n",
        "    tmpimg = cv2.resize(tmpimg, (0,0), fx=0.75, fy=0.75)\n",
        "    cv2_imshow(tmpimg)\n",
        "\n",
        "def ToT(img):\n",
        "    img = torch.from_numpy(img.transpose(2, 0, 1)).float()/255\n",
        "    return (img-0.5)*2\n",
        "\n",
        "def preprocess(tgt_img, imgs, ref_poses, intrinsics):\n",
        "    tgt_img = ToT(tgt_img)[np.newaxis]\n",
        "    imgs = [ToT(it)[np.newaxis] for it in imgs]\n",
        "    ref_poses = [torch.from_numpy(it)[np.newaxis].float() for it in ref_poses]\n",
        "    inv_intrinsic = np.linalg.inv(intrinsics)\n",
        "    intrinsics = torch.from_numpy(intrinsics).float()\n",
        "    inv_intrinsic = torch.from_numpy(inv_intrinsic).float()\n",
        "    return tgt_img, imgs, ref_poses, intrinsics, inv_intrinsic\n",
        "\n"
      ],
      "execution_count": 0,
      "outputs": []
    },
    {
      "cell_type": "code",
      "metadata": {
        "id": "bvI5kk-d5Uy4",
        "colab_type": "code",
        "colab": {}
      },
      "source": [
        "fname_l = test_folder + '/0000.jpg'\n",
        "fname_r = test_folder + '/0001.jpg'\n",
        "tgt_img = imread(fname_l)\n",
        "img = imread(fname_r)\n",
        "\n",
        "# intrinsics = np.array([[386.8946, 0, 382.7535],\n",
        "#                        [0, 386.8946, 219.6522],\n",
        "#                        [0, 0, 1]])\n",
        "# ref_poses = [np.array([[[0.9360, 0.0590, 0.3470, -566.4332],\n",
        "#                      [-0.0623, 0.9981, -0.0019, 17.1064],\n",
        "#                      [-0.3464, -0.0198, 0.9379,  123.5660]]])]\n",
        "\n",
        "intrinsics = np.loadtxt(test_folder + '/cam.txt')\n",
        "\n",
        "poses = np.loadtxt(test_folder + '/poses.txt')\n",
        "pose_tgt = np.concatenate((poses[0,:].reshape((3,4)), np.array([[0,0,0,1]])), axis=0)\n",
        "for j in [1]:\n",
        "    pose_src = np.concatenate((poses[j,:].reshape((3,4)), np.array([[0,0,0,1]])), axis=0)\n",
        "    pose_rel = pose_src.dot(np.linalg.inv(pose_tgt))\n",
        "    pose = pose_rel[:3,:].reshape((1,3,4)).astype(np.float32)\n",
        "ref_poses = [pose]\n",
        "\n",
        "# visualize\n",
        "imshow(np.concatenate((tgt_img, img), axis=1))"
      ],
      "execution_count": 0,
      "outputs": []
    },
    {
      "cell_type": "code",
      "metadata": {
        "id": "rg79GHBy5Uy7",
        "colab_type": "code",
        "colab": {}
      },
      "source": [
        "# preprocess image\n",
        "resize_x = 640\n",
        "resize_y = 480\n",
        "h, w, c = tgt_img.shape\n",
        "x_scale = resize_x/w\n",
        "y_scale = resize_y/h\n",
        "intrinsics[0] *= x_scale\n",
        "intrinsics[1] *= y_scale\n",
        "\n",
        "tgt_img = cv2.resize(tgt_img, (resize_x, resize_y))\n",
        "img = cv2.resize(img, (resize_x, resize_y))\n",
        "\n",
        "imgs = [img]  # imgs = [img1, img2]\n",
        "ref_poses = [pose]  # imgs = [pose1, pose2]\n",
        "\n",
        "org_img = np.array(tgt_img, dtype=np.uint8)\n",
        "\n",
        "tgt_img, imgs, ref_poses, intrinsics, inv_intrinsic = preprocess(tgt_img, imgs, ref_poses, intrinsics)\n",
        "\n",
        "\n",
        "with torch.no_grad():\n",
        "    tgt_img = tgt_img.cuda()\n",
        "    imgs = [it.cuda() for it in imgs]\n",
        "    ref_poses = [it.cuda() for it in ref_poses]\n",
        "    intrinsics = intrinsics[np.newaxis].cuda()\n",
        "    inv_intrinsic = inv_intrinsic[np.newaxis].cuda()\n",
        "    ref_poses = torch.cat(ref_poses,1)\n",
        "    output_depth = mymodel(tgt_img, imgs, ref_poses, intrinsics, inv_intrinsic)    \n",
        "    depth = output_depth.squeeze().cpu().numpy()\n",
        "    \n",
        "plt.imshow(depth)\n",
        "print('depth max:', depth.max())\n",
        "print('depth min:', depth.min())"
      ],
      "execution_count": 0,
      "outputs": []
    },
    {
      "cell_type": "markdown",
      "metadata": {
        "id": "1FuZQt3B5UzC",
        "colab_type": "text"
      },
      "source": [
        "# Generate PointCloud"
      ]
    },
    {
      "cell_type": "code",
      "metadata": {
        "id": "Kig4OfbT-sVx",
        "colab_type": "code",
        "colab": {}
      },
      "source": [
        "img = org_img\n",
        "resize_x = 640\n",
        "resize_y = 480\n",
        "img = cv2.resize(img, (resize_x, resize_y))\n",
        "\n",
        "height, width, _ = img.shape\n",
        "cam = intrinsics.cpu().numpy()[0]\n",
        "fx = cam[0,0]\n",
        "fy = cam[1,1]\n",
        "cx = cam[0,2]\n",
        "cy = cam[1,2]\n",
        "cam_o3 = o3d.camera.PinholeCameraIntrinsic(width, height, fx,fy,cx,cy)\n",
        "rgbd_image = o3d.geometry.RGBDImage.create_from_color_and_depth(\n",
        "        o3d.geometry.Image(img), o3d.geometry.Image(depth), \n",
        "    depth_scale=1.0, depth_trunc=100, convert_rgb_to_intensity=False)\n",
        "\n",
        "pcd = o3d.geometry.PointCloud.create_from_rgbd_image(rgbd_image, cam_o3)\n",
        "pcd.transform([[1, 0, 0, 0], [0, -1, 0, 0], [0, 0, -1, 0], [0, 0, 0, 1]])\n",
        "o3d.io.write_point_cloud('results.ply', pcd)\n",
        "files.download('results.ply') "
      ],
      "execution_count": 0,
      "outputs": []
    }
  ]
}